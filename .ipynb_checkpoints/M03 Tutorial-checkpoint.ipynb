{
 "cells": [
  {
   "cell_type": "code",
   "execution_count": 2,
   "id": "5a78efc4-077e-4413-b9f9-84885d512c0c",
   "metadata": {},
   "outputs": [],
   "source": [
    "class Solution:\n",
    "    # Function to sort an array of 0s, 1s, and 2s\n",
    "    def sort012(self, arr):\n",
    "        # code here\n",
    "        num_0 = 0\n",
    "        num_1 = 0\n",
    "        num_2 = 0\n",
    "        count = 0\n",
    "        for i in range(len(arr)):\n",
    "            if(arr[i] == 0):\n",
    "                num_0+=1\n",
    "            if(arr[i] == 1):\n",
    "                num_1+=1\n",
    "            if(arr[i] == 2):\n",
    "                num_2+=1\n",
    "        for i in range(len(arr)):\n",
    "            if(num_0 > 0):\n",
    "                arr[i]=0\n",
    "                num_0 = num_0-1\n",
    "            elif(num_1 > 0):\n",
    "                arr[i]=1\n",
    "                num_1 = num_1 - 1\n",
    "            elif(num_2 > 0):\n",
    "                arr[i]=2\n",
    "                num_2 = num_2 -1\n",
    "            \n",
    "        \n",
    "        \n",
    "\n"
   ]
  },
  {
   "cell_type": "code",
   "execution_count": null,
   "id": "e486b2c4-f7e8-4274-b416-ed456ed82686",
   "metadata": {},
   "outputs": [],
   "source": [
    "#User function template for Python\n",
    "\n",
    "class Solution:\n",
    "    def binarysearch(self, arr, k):\n",
    "        # Code Here\n",
    "        upper_bound = len(arr)-1\n",
    "        lower_bound = 0\n",
    "       \n",
    "        while(lower_bound <= upper_bound):\n",
    "            index = int((upper_bound + lower_bound)/2)\n",
    "            if(arr[index] == k):\n",
    "                return index\n",
    "            elif(arr[index] < k):\n",
    "                lower_bound = index + 1\n",
    "                \n",
    "            elif(arr[index] > k):\n",
    "                upper_bound = index - 1\n",
    "                \n",
    "            \n",
    "        return -1\n",
    "\n",
    "\n"
   ]
  },
  {
   "cell_type": "code",
   "execution_count": null,
   "id": "e531331c-5973-4494-85f9-1d48e1b6ba91",
   "metadata": {},
   "outputs": [],
   "source": []
  }
 ],
 "metadata": {
  "kernelspec": {
   "display_name": "Python 3 (ipykernel)",
   "language": "python",
   "name": "python3"
  },
  "language_info": {
   "codemirror_mode": {
    "name": "ipython",
    "version": 3
   },
   "file_extension": ".py",
   "mimetype": "text/x-python",
   "name": "python",
   "nbconvert_exporter": "python",
   "pygments_lexer": "ipython3",
   "version": "3.12.4"
  }
 },
 "nbformat": 4,
 "nbformat_minor": 5
}
