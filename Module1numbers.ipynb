{
 "cells": [
  {
   "cell_type": "code",
   "execution_count": 5,
   "id": "a72fd3cd-4e1d-4a68-87cf-91297c73f53b",
   "metadata": {},
   "outputs": [
    {
     "name": "stdout",
     "output_type": "stream",
     "text": [
      "number of seconds in an hour is:  3600\n"
     ]
    }
   ],
   "source": [
    "# 3.1-3.2\n",
    "num_hours = 1\n",
    "num_mins_per_hour = 60\n",
    "num_seconds_per_min = 60\n",
    "seconds_per_hour = num_hours * num_mins_per_hour * num_seconds_per_min\n",
    "print(\"number of seconds in an hour is: \",seconds_per_hour)\n"
   ]
  },
  {
   "cell_type": "code",
   "execution_count": 11,
   "id": "b32fdbb0-0bd7-4aca-a809-8599bcdb2c6c",
   "metadata": {},
   "outputs": [
    {
     "name": "stdout",
     "output_type": "stream",
     "text": [
      "number of seconds per day is:  86400\n"
     ]
    }
   ],
   "source": [
    "# 3.3-3.4\n",
    "seconds_per_day = seconds_per_hour * 24\n",
    "print(\"number of seconds per day is: \",seconds_per_day)"
   ]
  },
  {
   "cell_type": "code",
   "execution_count": 15,
   "id": "aad8c866-d6a8-4e8f-996e-3befe23a81b2",
   "metadata": {},
   "outputs": [
    {
     "name": "stdout",
     "output_type": "stream",
     "text": [
      "24.0\n"
     ]
    }
   ],
   "source": [
    "#3.5\n",
    "print(seconds_per_day/seconds_per_hour)"
   ]
  },
  {
   "cell_type": "code",
   "execution_count": 17,
   "id": "13c9e852-8248-4e90-87a3-41295b7031e7",
   "metadata": {},
   "outputs": [
    {
     "name": "stdout",
     "output_type": "stream",
     "text": [
      "24\n"
     ]
    }
   ],
   "source": [
    "# 3.6\n",
    "print(seconds_per_day//seconds_per_hour)"
   ]
  }
 ],
 "metadata": {
  "kernelspec": {
   "display_name": "Python 3 (ipykernel)",
   "language": "python",
   "name": "python3"
  },
  "language_info": {
   "codemirror_mode": {
    "name": "ipython",
    "version": 3
   },
   "file_extension": ".py",
   "mimetype": "text/x-python",
   "name": "python",
   "nbconvert_exporter": "python",
   "pygments_lexer": "ipython3",
   "version": "3.12.4"
  }
 },
 "nbformat": 4,
 "nbformat_minor": 5
}
