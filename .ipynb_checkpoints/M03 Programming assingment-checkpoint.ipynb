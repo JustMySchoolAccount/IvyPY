{
 "cells": [
  {
   "cell_type": "code",
   "execution_count": 1,
   "id": "cf58c38f-fcde-4569-98ad-37acc0d57aac",
   "metadata": {},
   "outputs": [],
   "source": [
    "#7.4-7.7\n",
    "things = ['mozzerella','cinderella','salmonella']\n"
   ]
  },
  {
   "cell_type": "code",
   "execution_count": 3,
   "id": "975d6a7e-7d70-4afa-8c46-db3d66694fef",
   "metadata": {},
   "outputs": [
    {
     "name": "stdout",
     "output_type": "stream",
     "text": [
      "mozzerella\n",
      "Cinderella\n",
      "salmonella\n"
     ]
    }
   ],
   "source": [
    "things[1] = 'Cinderella'\n",
    "for thing in things:\n",
    "    print(thing)"
   ]
  },
  {
   "cell_type": "code",
   "execution_count": 5,
   "id": "b9a5c9dd-4324-48e9-a1aa-ec67e2a92d26",
   "metadata": {},
   "outputs": [
    {
     "name": "stdout",
     "output_type": "stream",
     "text": [
      "MOZZERELLA\n",
      "Cinderella\n",
      "salmonella\n"
     ]
    }
   ],
   "source": [
    "things[0] = 'MOZZERELLA'\n",
    "for thing in things:\n",
    "    print(thing)"
   ]
  },
  {
   "cell_type": "code",
   "execution_count": 7,
   "id": "986f6b8f-69bf-48f6-8183-8b835e32f16d",
   "metadata": {
    "scrolled": true
   },
   "outputs": [
    {
     "name": "stdout",
     "output_type": "stream",
     "text": [
      "MOZZERELLA\n",
      "Cinderella\n"
     ]
    }
   ],
   "source": [
    "things.remove('salmonella')\n",
    "for thing in things:\n",
    "    print(thing)"
   ]
  },
  {
   "cell_type": "code",
   "execution_count": 11,
   "id": "987fd24b-0cf5-41d5-ae81-ade83beb62a5",
   "metadata": {},
   "outputs": [],
   "source": [
    "#9.1-9.2\n",
    "def good():\n",
    "    nice = ['Harry','Ron','Hermione']\n",
    "    return nice"
   ]
  },
  {
   "cell_type": "code",
   "execution_count": 11,
   "id": "191fe6f1-9da6-4105-ae5d-ae9ae0d49319",
   "metadata": {},
   "outputs": [
    {
     "name": "stdout",
     "output_type": "stream",
     "text": [
      "0\n",
      "2\n",
      "4\n",
      "6\n",
      "8\n"
     ]
    }
   ],
   "source": [
    "def get_odds(n,l):\n",
    "    num = n\n",
    "    while(num < l):\n",
    "        if(num%2==0):\n",
    "            yield num\n",
    "        num = num + 1\n",
    "#even = get_odds(10)\n",
    "for x in get_odds(0,10):\n",
    "    print(x)"
   ]
  },
  {
   "cell_type": "code",
   "execution_count": null,
   "id": "3bbb7d7a-779f-448f-b5d9-5e931a9db7fb",
   "metadata": {},
   "outputs": [],
   "source": []
  }
 ],
 "metadata": {
  "kernelspec": {
   "display_name": "Python 3 (ipykernel)",
   "language": "python",
   "name": "python3"
  },
  "language_info": {
   "codemirror_mode": {
    "name": "ipython",
    "version": 3
   },
   "file_extension": ".py",
   "mimetype": "text/x-python",
   "name": "python",
   "nbconvert_exporter": "python",
   "pygments_lexer": "ipython3",
   "version": "3.12.4"
  }
 },
 "nbformat": 4,
 "nbformat_minor": 5
}
