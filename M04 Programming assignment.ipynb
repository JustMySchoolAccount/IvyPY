{
 "cells": [
  {
   "cell_type": "code",
   "execution_count": 7,
   "id": "79040e9a-0efc-4ccc-8685-fc020cbc0120",
   "metadata": {},
   "outputs": [],
   "source": [
    "#representation of zoo.py\n",
    "def hours():\n",
    "    print('Open 9-5 Daily')"
   ]
  },
  {
   "cell_type": "code",
   "execution_count": 15,
   "id": "cb10821c-a11d-43f5-b037-dd3c47b4be12",
   "metadata": {},
   "outputs": [
    {
     "name": "stdout",
     "output_type": "stream",
     "text": [
      "Open 9-5 Daily\n"
     ]
    }
   ],
   "source": [
    "import zoo as managerie\n",
    "managerie.hours()\n"
   ]
  },
  {
   "cell_type": "code",
   "execution_count": 1,
   "id": "4b6a8b20-9585-48fe-a35a-bef7d47cfa62",
   "metadata": {},
   "outputs": [],
   "source": [
    "import csv\n",
    "import sqlite3\n",
    "books = [\n",
    "    [\"title\", \"author\", \"year\"],\n",
    "     [\"The Weirdstone of Brisingamen\", \"Alan Garner\", 1960],\n",
    "     [\"Perdido Street Station\",\"China Miéville\",2000],\n",
    "     [\"Thud!\",\"Terry Pratchett\",2005],\n",
    "     [\"The Spellman Files\",\"Lisa Lutz\",2007],\n",
    "     [\"Small Gods\",\"Terry Pratchett\",1992]]\n",
    "with open ('books2.csv', 'wt') as fout:\n",
    "    writer = csv.writer(fout)\n",
    "    writer.writerows(books)\n",
    "    "
   ]
  },
  {
   "cell_type": "code",
   "execution_count": 23,
   "id": "6368471d-3466-439a-bc14-5c92950f9fb9",
   "metadata": {},
   "outputs": [
    {
     "ename": "OperationalError",
     "evalue": "table books already exists",
     "output_type": "error",
     "traceback": [
      "\u001b[1;31m---------------------------------------------------------------------------\u001b[0m",
      "\u001b[1;31mOperationalError\u001b[0m                          Traceback (most recent call last)",
      "Cell \u001b[1;32mIn[23], line 4\u001b[0m\n\u001b[0;32m      2\u001b[0m cursor \u001b[38;5;241m=\u001b[39m conn\u001b[38;5;241m.\u001b[39mcursor()\n\u001b[0;32m      3\u001b[0m table \u001b[38;5;241m=\u001b[39m \u001b[38;5;124m\"\u001b[39m\u001b[38;5;124mCREATE TABLE books (title TEXT, author TEXT, year INTEGER)\u001b[39m\u001b[38;5;124m\"\u001b[39m\n\u001b[1;32m----> 4\u001b[0m cursor\u001b[38;5;241m.\u001b[39mexecute(table)\n\u001b[0;32m      5\u001b[0m \u001b[38;5;28;01mwith\u001b[39;00m \u001b[38;5;28mopen\u001b[39m(\u001b[38;5;124m'\u001b[39m\u001b[38;5;124mbooks2.csv\u001b[39m\u001b[38;5;124m'\u001b[39m, \u001b[38;5;124m'\u001b[39m\u001b[38;5;124mrt\u001b[39m\u001b[38;5;124m'\u001b[39m) \u001b[38;5;28;01mas\u001b[39;00m fin:\n\u001b[0;32m      6\u001b[0m     cin \u001b[38;5;241m=\u001b[39m csv\u001b[38;5;241m.\u001b[39mreader(fin)\n",
      "\u001b[1;31mOperationalError\u001b[0m: table books already exists"
     ]
    }
   ],
   "source": [
    "conn = sqlite3.connect('books.db')\n",
    "cursor = conn.cursor()\n",
    "table = \"CREATE TABLE books (title TEXT, author TEXT, year INTEGER)\"\n",
    "cursor.execute(table)\n",
    "with open('books2.csv', 'rt') as fin:\n",
    "    cin = csv.reader(fin)\n",
    "    books = [row for row in cin]\n",
    "    bookSize = len(books)\n",
    "    \n",
    "    i = 0\n",
    "    while i < bookSize -1:\n",
    "        element1 = books[i][0]\n",
    "        element2 = books[i][1]\n",
    "        element3 = books[i][2]\n",
    "        print(element1, element2, element3)\n",
    "        cursor.execute(\"INSERT into books(title, author, year) VALUES (?, ?, ?)\", (element1, element2, element3))\n",
    "        i = i + 2\n",
    "\n",
    "    conn.commit()\n",
    "    conn.close()\n",
    "\n",
    "    \n",
    "    "
   ]
  },
  {
   "cell_type": "code",
   "execution_count": 27,
   "id": "19a510f0-a3ca-4d18-9920-65903916faad",
   "metadata": {},
   "outputs": [
    {
     "name": "stdout",
     "output_type": "stream",
     "text": [
      "[('title',), ('The Weirdstone of Brisingamen',), ('Perdido Street Station',), ('Thud!',), ('The Spellman Files',), ('Small Gods',)]\n"
     ]
    }
   ],
   "source": [
    "import sqlalchemy as sa\n",
    "engine = sa.create_engine('sqlite:///books.db')\n",
    "with engine.connect() as connection:\n",
    "    result = connection.execute(sa.text('SELECT title FROM books'))\n",
    "    rows = result.fetchall()\n",
    "    print(rows)"
   ]
  },
  {
   "cell_type": "code",
   "execution_count": null,
   "id": "e6d8862a-1948-426e-a535-09ea0dd4c888",
   "metadata": {},
   "outputs": [],
   "source": []
  }
 ],
 "metadata": {
  "kernelspec": {
   "display_name": "Python 3 (ipykernel)",
   "language": "python",
   "name": "python3"
  },
  "language_info": {
   "codemirror_mode": {
    "name": "ipython",
    "version": 3
   },
   "file_extension": ".py",
   "mimetype": "text/x-python",
   "name": "python",
   "nbconvert_exporter": "python",
   "pygments_lexer": "ipython3",
   "version": "3.12.4"
  }
 },
 "nbformat": 4,
 "nbformat_minor": 5
}
