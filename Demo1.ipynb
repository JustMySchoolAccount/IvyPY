{
 "cells": [
  {
   "cell_type": "code",
   "execution_count": 5,
   "id": "6868c518-1714-4ec1-98ec-81e1f5f40207",
   "metadata": {},
   "outputs": [
    {
     "name": "stdout",
     "output_type": "stream",
     "text": [
      "First python program\n"
     ]
    }
   ],
   "source": [
    "print(\"First python program\")"
   ]
  },
  {
   "cell_type": "code",
   "execution_count": 9,
   "id": "66dab573-e8ad-4570-abf0-435df75133c8",
   "metadata": {},
   "outputs": [
    {
     "name": "stdout",
     "output_type": "stream",
     "text": [
      "Sum:  15\n"
     ]
    }
   ],
   "source": [
    "a= 5\n",
    "b= 10\n",
    "c= a + b\n",
    "print(\"Sum: \",c)"
   ]
  },
  {
   "cell_type": "code",
   "execution_count": null,
   "id": "ffb22cd3-f607-487e-94a7-5e8a7d24727c",
   "metadata": {},
   "outputs": [],
   "source": []
  }
 ],
 "metadata": {
  "kernelspec": {
   "display_name": "Python 3 (ipykernel)",
   "language": "python",
   "name": "python3"
  },
  "language_info": {
   "codemirror_mode": {
    "name": "ipython",
    "version": 3
   },
   "file_extension": ".py",
   "mimetype": "text/x-python",
   "name": "python",
   "nbconvert_exporter": "python",
   "pygments_lexer": "ipython3",
   "version": "3.12.4"
  }
 },
 "nbformat": 4,
 "nbformat_minor": 5
}
