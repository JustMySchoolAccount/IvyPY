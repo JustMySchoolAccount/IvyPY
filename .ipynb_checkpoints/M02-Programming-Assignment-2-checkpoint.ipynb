{
 "cells": [
  {
   "cell_type": "code",
   "execution_count": 3,
   "id": "476c19ba-b1a7-475a-b57c-ec2f4c8f0444",
   "metadata": {},
   "outputs": [
    {
     "name": "stdout",
     "output_type": "stream",
     "text": [
      "Guess is too high!\n"
     ]
    }
   ],
   "source": [
    "#4.1\n",
    "secret = 4\n",
    "guess = 9\n",
    "if(guess > secret):\n",
    "    print(\"Guess is too high!\")\n",
    "elif(guess < secret):\n",
    "    print(\"Guess is too low!\")\n",
    "else:\n",
    "    print(\"Just Right!\")"
   ]
  },
  {
   "cell_type": "code",
   "execution_count": 13,
   "id": "6fdd837b-7058-4b31-9f75-c03c518108e8",
   "metadata": {},
   "outputs": [
    {
     "name": "stdout",
     "output_type": "stream",
     "text": [
      "Watermelons are not small and are green!\n"
     ]
    }
   ],
   "source": [
    "#4.2\n",
    "small = False\n",
    "green = True\n",
    "if(small == False and green == False):\n",
    "    print(\"Pumpkins are neither small nor green!\")\n",
    "elif(small == False and green ==True):\n",
    "    print(\"Watermelons are not small and are green!\")\n",
    "elif(small == True and green == False):\n",
    "    print(\"Cherries are small but not green!\")\n",
    "elif(small == True and green == True):\n",
    "    print(\"Peas are small and green!\")\n",
    "    "
   ]
  },
  {
   "cell_type": "code",
   "execution_count": 25,
   "id": "f2271e19-a591-4e06-9df0-a7fbd7d49ed8",
   "metadata": {},
   "outputs": [
    {
     "name": "stdout",
     "output_type": "stream",
     "text": [
      "[3, 2, 1, 0]\n"
     ]
    }
   ],
   "source": [
    "#6.1\n",
    "num = 3\n",
    "print(\"[\",end=\"\")\n",
    "for i in range(4):\n",
    "    if(num > 0):\n",
    "        print(str(num), end=\", \")\n",
    "    else:\n",
    "        print(str(num), end = \"\")\n",
    "    num -= 1\n",
    "print(\"]\")"
   ]
  },
  {
   "cell_type": "code",
   "execution_count": 29,
   "id": "a6f9d329-32b9-46bf-ab90-9b62f70d3bb6",
   "metadata": {},
   "outputs": [
    {
     "name": "stdout",
     "output_type": "stream",
     "text": [
      "Number is too low!\n",
      "Number is too low!\n",
      "Number is too low!\n",
      "Number is too low!\n",
      "Number is too low!\n",
      "Number is too low!\n",
      "Fount it!\n"
     ]
    }
   ],
   "source": [
    "#6.2\n",
    "guess_me = 7\n",
    "number = 1\n",
    "while(number != guess_me):\n",
    "    print(\"Number is too low!\")\n",
    "    number = number + 1\n",
    "print(\"Fount it!\")"
   ]
  },
  {
   "cell_type": "code",
   "execution_count": 31,
   "id": "032c9c1f-d3d4-4cfa-9076-65c322d4639f",
   "metadata": {},
   "outputs": [
    {
     "name": "stdout",
     "output_type": "stream",
     "text": [
      "Number is too low!\n",
      "Number is too low!\n",
      "Number is too low!\n",
      "Number is too low!\n",
      "Number is too low!\n",
      "Found it!\n"
     ]
    }
   ],
   "source": [
    "#6.3\n",
    "guess_me = 5\n",
    "for number in range(10):\n",
    "    if(number == guess_me):\n",
    "        print(\"Found it!\")\n",
    "        break\n",
    "    else:\n",
    "        print(\"Number is too low!\")\n",
    "    "
   ]
  },
  {
   "cell_type": "code",
   "execution_count": null,
   "id": "ae415863-69e5-4133-9250-dbbf34d07084",
   "metadata": {},
   "outputs": [],
   "source": []
  }
 ],
 "metadata": {
  "kernelspec": {
   "display_name": "Python 3 (ipykernel)",
   "language": "python",
   "name": "python3"
  },
  "language_info": {
   "codemirror_mode": {
    "name": "ipython",
    "version": 3
   },
   "file_extension": ".py",
   "mimetype": "text/x-python",
   "name": "python",
   "nbconvert_exporter": "python",
   "pygments_lexer": "ipython3",
   "version": "3.12.4"
  }
 },
 "nbformat": 4,
 "nbformat_minor": 5
}
