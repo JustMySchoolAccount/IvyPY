{
 "cells": [
  {
   "cell_type": "code",
   "execution_count": 29,
   "id": "3b052fcf-aac9-4935-a234-b414b30b068d",
   "metadata": {},
   "outputs": [],
   "source": [
    "#13.1-13.3\n",
    "import datetime\n",
    "import time\n",
    "dayFile = open('today.txt', 'wt')\n",
    "todaysDate = time.localtime()\n",
    "fmt = \"%B-%d-%Y\"\n",
    "\n",
    "print(time.strftime(fmt, todaysDate), file=dayFile)\n",
    "dayFile.close()"
   ]
  },
  {
   "cell_type": "code",
   "execution_count": 33,
   "id": "c97aeb39-f95e-4210-85a1-bd6c51a82b30",
   "metadata": {},
   "outputs": [],
   "source": [
    "with open('today.txt','r') as f:\n",
    "    today_string = f.read().strip()\n",
    "    fmt = \"%B-%d-%Y\"\n",
    "    time.strptime(today_string, fmt)"
   ]
  },
  {
   "cell_type": "code",
   "execution_count": 5,
   "id": "af50f095-df27-474f-b091-0f63d758c8d3",
   "metadata": {},
   "outputs": [],
   "source": [
    "import multiprocessing as mp\n",
    "import random as r\n",
    "import datetime\n",
    "import os\n",
    "def wait(time):\n",
    "    realtime = float(time)\n",
    "    time.sleep(realtime)  \n",
    "    print(f\"Process {os.getpid()} completed at {datetime.datetime.now()}\")\n",
    "\n",
    "if __name__ == '__main__':\n",
    "    processes = []  \n",
    "    for n in range(3):\n",
    "        rtime = r.random()  \n",
    "        p = mp.Process(target=wait, args=(rtime,))  \n",
    "        processes.append(p)\n",
    "        p.start()\n",
    "\n",
    "    for p in processes:\n",
    "        p.join()"
   ]
  },
  {
   "cell_type": "code",
   "execution_count": null,
   "id": "952bd935-3fd4-4cf3-9bb6-8a9408d73576",
   "metadata": {},
   "outputs": [],
   "source": []
  }
 ],
 "metadata": {
  "kernelspec": {
   "display_name": "Python 3 (ipykernel)",
   "language": "python",
   "name": "python3"
  },
  "language_info": {
   "codemirror_mode": {
    "name": "ipython",
    "version": 3
   },
   "file_extension": ".py",
   "mimetype": "text/x-python",
   "name": "python",
   "nbconvert_exporter": "python",
   "pygments_lexer": "ipython3",
   "version": "3.12.4"
  }
 },
 "nbformat": 4,
 "nbformat_minor": 5
}
